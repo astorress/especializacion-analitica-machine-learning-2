{
  "nbformat": 4,
  "nbformat_minor": 0,
  "metadata": {
    "colab": {
      "provenance": [],
      "toc_visible": true
    },
    "kernelspec": {
      "name": "python3",
      "display_name": "Python 3"
    },
    "language_info": {
      "name": "python"
    }
  },
  "cells": [
    {
      "cell_type": "markdown",
      "source": [
        "# **WORKSHOP III**: Embebbeding Lab - Machine learning II\n",
        "\n",
        "By:\n",
        "- Sebastian Torres Sanchez\n",
        "- Alvaro Gomez Penuela\n",
        "- Hector Mauricio Rendón\n",
        "\n",
        "22/sept/2023 - University of Antioquia"
      ],
      "metadata": {
        "id": "wKp9xrZH42c9"
      }
    },
    {
      "cell_type": "markdown",
      "source": [
        "## **Import package**"
      ],
      "metadata": {
        "id": "jCiJAt1Z47qj"
      }
    },
    {
      "cell_type": "markdown",
      "source": [
        "Transformers provides APIs and tools to easily download and train state-of-the-art pretrained models. Using pretrained models can reduce your compute costs, and save you the time and resources required to train a model from scratch"
      ],
      "metadata": {
        "id": "0qbpKA4cXADL"
      }
    },
    {
      "cell_type": "code",
      "source": [
        "# import transformers\n",
        "!pip install transformers"
      ],
      "metadata": {
        "id": "hyKLwtteMGto"
      },
      "execution_count": null,
      "outputs": []
    },
    {
      "cell_type": "code",
      "source": [
        "# Import numpy\n",
        "import numpy as np\n",
        "\n",
        "# Pipelines\n",
        "from transformers import pipeline\n",
        "\n",
        "# Models\n",
        "from gensim.models import Word2Vec\n",
        "from nltk.tokenize import word_tokenize\n",
        "import nltk\n",
        "nltk.download('punkt')\n",
        "\n",
        "# Metric\n",
        "from sklearn.metrics.pairwise import cosine_similarity"
      ],
      "metadata": {
        "id": "W8CiBWpLPk8P",
        "colab": {
          "base_uri": "https://localhost:8080/"
        },
        "outputId": "4ec7240c-1f31-4e62-eb80-77602941a36a"
      },
      "execution_count": 3,
      "outputs": [
        {
          "output_type": "stream",
          "name": "stderr",
          "text": [
            "[nltk_data] Downloading package punkt to /root/nltk_data...\n",
            "[nltk_data]   Unzipping tokenizers/punkt.zip.\n"
          ]
        }
      ]
    },
    {
      "cell_type": "code",
      "source": [],
      "metadata": {
        "colab": {
          "base_uri": "https://localhost:8080/"
        },
        "id": "p-BrroyvtbJY",
        "outputId": "9840470d-dd33-47f2-872c-dbf316b175fd"
      },
      "execution_count": null,
      "outputs": [
        {
          "output_type": "stream",
          "name": "stderr",
          "text": [
            "[nltk_data] Downloading package punkt to /root/nltk_data...\n",
            "[nltk_data]   Package punkt is already up-to-date!\n"
          ]
        }
      ]
    },
    {
      "cell_type": "markdown",
      "source": [
        "## **Exercise 1**: Vector embeddings and its applications"
      ],
      "metadata": {
        "id": "Mqtds0Sa5u0i"
      }
    },
    {
      "cell_type": "markdown",
      "source": [
        "**a) In your own words, describe what vector embeddings are and what they are useful for**"
      ],
      "metadata": {
        "id": "fDbOBPxD6lDM"
      }
    },
    {
      "cell_type": "markdown",
      "source": [
        "The vector embedding are a representation in a vector space of data such as words, sentences, paragraphs or documents in numerical forms, i.e., they are transformations of words to numerical values in space (vectors), trying to preserve the properties between words, such as semantics, in order to be able to be processed and perform analysis.\n",
        "\n",
        "Vector embegginds can be used for recommendation systems, informatrion retrival, sentiment analysis, text classification, etc.\n",
        "\n",
        "**See more details in attached PDF**."
      ],
      "metadata": {
        "id": "t9EVcNvY6xuP"
      }
    },
    {
      "cell_type": "markdown",
      "source": [
        "**b) Example in Python**"
      ],
      "metadata": {
        "id": "_zunjhMG6jJU"
      }
    },
    {
      "cell_type": "code",
      "execution_count": 26,
      "metadata": {
        "id": "mWQ2NvM7tVVw"
      },
      "outputs": [],
      "source": [
        "# Sample sentences\n",
        "sentences = [\n",
        "    'I love machine learning II',\n",
        "    'Word embeddings are useful',\n",
        "    'Natural language processing is fascinating',\n",
        "    'Python is a popular programming language',\n",
        "    'I will be sucsessful in data science'\n",
        "]\n",
        "\n",
        "# Tokenize the sentences into words\n",
        "tokenized_sentences = [word_tokenize(sentence.lower()) for sentence in sentences]\n",
        "\n",
        "# Create Word2Vec model\n",
        "Word2Vec_model = Word2Vec(tokenized_sentences, vector_size=50, window=5, min_count=1, sg=0)\n",
        "\n",
        "# Get the vector for the word embeddings\n",
        "vector_embedding_machine = Word2Vec_model.wv['machine']\n",
        "vector_embedding_python = Word2Vec_model.wv['python']\n",
        "vector_embedding_embeddings = Word2Vec_model.wv['embeddings']"
      ]
    },
    {
      "cell_type": "code",
      "source": [
        "# Show embedded vector for \"machine\"\n",
        "print(f'Lenght vector embedding \"machine\": {len(vector_embedding_machine)}')\n",
        "print(f'Vector embedding for \"machine\":\\n {vector_embedding_machine}')\n",
        "print('\\nIt can be done with all the words')"
      ],
      "metadata": {
        "colab": {
          "base_uri": "https://localhost:8080/"
        },
        "id": "cvGzjnBN7sv_",
        "outputId": "d72483ae-fe6b-42ca-cec0-1970aa165f78"
      },
      "execution_count": 27,
      "outputs": [
        {
          "output_type": "stream",
          "name": "stdout",
          "text": [
            "Lenght vector embedding \"machine\": 50\n",
            "Vector embedding for \"machine\":\n",
            " [ 0.00018907  0.00615456 -0.01362535 -0.00275063  0.01533784  0.01469364\n",
            " -0.00734431  0.00528799 -0.01663322  0.01241102 -0.00927449 -0.00632669\n",
            "  0.01862254  0.00174459  0.01498369 -0.01214748  0.01032419  0.01984348\n",
            " -0.01691487 -0.01026878 -0.01413005 -0.0097274  -0.00755425 -0.0170693\n",
            "  0.01590917 -0.00968868  0.016847    0.01052538 -0.01309865  0.0079151\n",
            "  0.0109386  -0.01485304 -0.01481183 -0.0049521  -0.01725044 -0.00316186\n",
            " -0.00080509  0.0065963   0.00288248 -0.0017619  -0.01118723  0.00346141\n",
            " -0.00179312  0.0135853   0.00794804  0.00905999  0.00287019 -0.00540062\n",
            " -0.00873605 -0.00206373]\n",
            "\n",
            "It can be done with all the words\n"
          ]
        }
      ]
    },
    {
      "cell_type": "markdown",
      "source": [
        "## **Exercise 2**: Distance metrics in embeddings spaces"
      ],
      "metadata": {
        "id": "6oINf9NQ5wzo"
      }
    },
    {
      "cell_type": "markdown",
      "source": [
        "**a) What do you think is the best distance criterion to estimate how far two embeddings (vectors) are from each other? Why?**"
      ],
      "metadata": {
        "id": "7kPQN0VODkhF"
      }
    },
    {
      "cell_type": "markdown",
      "source": [
        "There are many types of distances to calculate how far apart two embeddings are, because in the end these data are converted into vectors, natural or normal vector operations can be used for embedding, here are some of them:\n",
        "\n",
        "* ***Euclidean Distance***:\n",
        "\t* Formula:\n",
        "$$ \\sqrt{\\sum (x_{i}-y_{i})^{2})} $$\n",
        "\t* Use Case: It's straightforward and intuitive, but it can be sensitive to the scale of the features. It's commonly used when the features are continuous and have a clear geometric interpretation.\n",
        "<br> <br/>\n",
        "* ***Cosine Similarity***:\n",
        "\t* Formula: $$ \\frac{x\\cdot y}{\\left \\| x \\right \\| \\left \\| y \\right \\|} $$\n",
        "\t* Use Case: It measures the cosine of the angle between two vectors. It's particularly useful when the magnitude of the vectors doesn't matter, only the direction. This is common in text analysis and information retrieval.\n",
        "<br> <br/>\n",
        "* **Manhattan Distance** (L1 Norm):\n",
        "\t* Formula: $$ \\sum \\left | x_{i}-y_{i} \\right | $$\n",
        "\t* Use Case: It's useful when the features are categorical or when you want to measure distance along axes in a grid-like structure.\n",
        "<br> <br/>\n",
        "* **Mahalanobis Distance**:\n",
        "\t* Formula: $$ \\sqrt{(x-y)S^{T}(x-y)} $$ Where S^T is the covariance matrix of the data.\n",
        "\t* Use Case: It's useful when there is correlation between the features or when the data is not isotropically distributed.\n",
        "<br> <br/>\n",
        "* **Jaccard Distance**:\n",
        "\t* Formula: $$ 1-\\frac{A\\bigcap B}{A\\bigcup B} $$\n",
        "\t* Use Case: Commonly used for comparing sets. It's particularly useful in tasks related to set similarity, such as document or text analysis.\n",
        "<br> <br/>\n",
        "* **Correlation Distance**:\n",
        "\t* Formula: $$ 1 - Corr(x, y) $$ Where Corr(x,y)is the Pearson correlation coefficient.\n",
        "\t* Use Case: It measures the correlation between two vectors and is particularly useful when you want to compare the shape of the vectors.\n",
        "\n",
        "<br> <br/>\n",
        "**See more details in attached PDF**."
      ],
      "metadata": {
        "id": "r3zgVmliD_js"
      }
    },
    {
      "cell_type": "markdown",
      "source": [
        "**b) Example in Pyhton**"
      ],
      "metadata": {
        "id": "hIDxM2d-D91j"
      }
    },
    {
      "cell_type": "markdown",
      "source": [
        "Let's use the previous embedded vectors for Machine, Python and Embeddings words to calculate the distances"
      ],
      "metadata": {
        "id": "mrQgYDMwbvdd"
      }
    },
    {
      "cell_type": "code",
      "source": [
        "# Embedded words\n",
        "print(f'Len of the embedded vector for Machine: {len(vector_embedding_machine)}')\n",
        "print(f'Len of the embedded vector for Python: {len(vector_embedding_python)}')\n",
        "print(f'Len of the embedded vector for Emdeddinds: {len(vector_embedding_embeddings)}')"
      ],
      "metadata": {
        "id": "tQcHmPTPDFlu",
        "colab": {
          "base_uri": "https://localhost:8080/"
        },
        "outputId": "b335544e-67b0-4ffb-bc69-c73b60deef56"
      },
      "execution_count": 17,
      "outputs": [
        {
          "output_type": "stream",
          "name": "stdout",
          "text": [
            "Len of the embedded vector for Machine: 50\n",
            "Len of the embedded vector for Python: 50\n",
            "Len of the embedded vector for Emdeddinds: 50\n"
          ]
        }
      ]
    },
    {
      "cell_type": "code",
      "source": [
        "# Measure Semantic Similarity\n",
        "similarity_score = cosine_similarity([vector_embedding_machine], [vector_embedding_python])\n",
        "print(f'Cosine similarity between \"Machine\" and \"Python\": {similarity_score[0][0]}')"
      ],
      "metadata": {
        "colab": {
          "base_uri": "https://localhost:8080/"
        },
        "id": "W9a_a8Kn5N3c",
        "outputId": "23433fba-f44e-4b72-c7e6-a2e4755a843e"
      },
      "execution_count": 19,
      "outputs": [
        {
          "output_type": "stream",
          "name": "stdout",
          "text": [
            "Cosine similarity between \"Machine\" and \"Python\": 0.04003291204571724\n"
          ]
        }
      ]
    },
    {
      "cell_type": "code",
      "source": [
        "# Measure Euclidean Similarity\n",
        "euclidean_dist = np.linalg.norm(vector_embedding_machine - vector_embedding_python)\n",
        "print(f'Euclidean distance between \"Machine\" and \"Python\": {euclidean_dist}')\n"
      ],
      "metadata": {
        "colab": {
          "base_uri": "https://localhost:8080/"
        },
        "id": "Us1CuPOfCFIt",
        "outputId": "a75b930a-0d12-46b5-8c3e-b5242afd90b7"
      },
      "execution_count": 20,
      "outputs": [
        {
          "output_type": "stream",
          "name": "stdout",
          "text": [
            "Euclidean distance between \"Machine\" and \"Python\": 0.11060785502195358\n"
          ]
        }
      ]
    },
    {
      "cell_type": "code",
      "source": [
        "# Measure Manhattan Similarity\n",
        "manhattan_dist = np.sum(np.abs(vector_embedding_machine - vector_embedding_python))\n",
        "print(f'Manhattan distance between \"Machine\" and \"Python\": {manhattan_dist}')\n"
      ],
      "metadata": {
        "colab": {
          "base_uri": "https://localhost:8080/"
        },
        "id": "RcraRmAhCPFy",
        "outputId": "647746a6-d4d9-4ee4-c712-3c888e674bba"
      },
      "execution_count": 21,
      "outputs": [
        {
          "output_type": "stream",
          "name": "stdout",
          "text": [
            "Manhattan distance between \"Machine\" and \"Python\": 0.6552152037620544\n"
          ]
        }
      ]
    },
    {
      "cell_type": "markdown",
      "source": [
        "Note how each one gives different distance measurements, so their selection is an important factor in embedding applications."
      ],
      "metadata": {
        "id": "5aAB3me6eN4k"
      }
    },
    {
      "cell_type": "markdown",
      "source": [
        "## **Exercise 3**: Q&D System using embeddings"
      ],
      "metadata": {
        "id": "OaNRTa3cHRuf"
      }
    },
    {
      "cell_type": "markdown",
      "source": [
        "**Let us build a Q&A (question answering) system! For this, consider the following steps**"
      ],
      "metadata": {
        "id": "RCHfTB-cHW_w"
      }
    },
    {
      "cell_type": "markdown",
      "source": [
        "### **a) Choose a text**\n",
        "Pick whatever text you like, in the order of 20+ paragraphs"
      ],
      "metadata": {
        "id": "ZKmk_8GbIfKF"
      }
    },
    {
      "cell_type": "markdown",
      "source": [
        "For this item, chatgpt was used to recommend a text with more than 20 paragraphs and the text that was selected was the classic novel Pride and Prejudice\" by Jane Austen."
      ],
      "metadata": {
        "id": "pnOW3DgXsvxV"
      }
    },
    {
      "cell_type": "code",
      "source": [
        "text = \"\"\"\n",
        "\n",
        "It is a truth universally acknowledged, that a single man in possession of a good fortune, must be in want of a wife.\n",
        "\n",
        "However little known the feelings or views of such a man may be on his first entering a neighbourhood, this truth is so well fixed in the minds of the surrounding families, that he is considered as the rightful property of some one or other of their daughters.\n",
        "\n",
        "\"My dear Mr. Bennet,\" said his lady to him one day, \"have you heard that Netherfield Park is let at last?\"\n",
        "\n",
        "Mr. Bennet replied that he had not.\n",
        "\n",
        "\"But it is,\" returned she; \"for Mrs. Long has just been here, and she told me all about it.\"\n",
        "\n",
        "Mr. Bennet made no answer.\n",
        "\n",
        "\"Do not you want to know who has taken it?\" cried his wife impatiently.\n",
        "\n",
        "\"You want to tell me, and I have no objection to hearing it.\"\n",
        "\n",
        "This was invitation enough.\n",
        "\n",
        "\"Why, my dear, you must know, Mrs. Long says that Netherfield is taken by a young man of large fortune from the north of England; that he came down on Monday in a chaise and four to see the place, and was so much delighted with it that he agreed with Mr. Morris immediately; that he is to take possession before Michaelmas, and some of his servants are to be in the house by the end of next week.\"\n",
        "\n",
        "\"What is his name?\"\n",
        "\n",
        "\"Bingley.\"\n",
        "\n",
        "\"Is he married or single?\"\n",
        "\n",
        "\"Oh! single, my dear, to be sure! A single man of large fortune; four or five thousand a year. What a fine thing for our girls!\"\n",
        "\n",
        "\"How so? how can it affect them?\"\n",
        "\n",
        "\"My dear Mr. Bennet,\" replied his wife, \"how can you be so tiresome! You must know that I am thinking of his marrying one of them.\"\n",
        "\n",
        "\"Is that his design in settling here?\"\n",
        "\n",
        "\"Design! nonsense, how can you talk so! But it is very likely that he may fall in love with one of them, and therefore you must visit him as soon as he comes.\"\n",
        "\n",
        "\"I see no occasion for that. You and the girls may go, or you may send them by themselves, which perhaps will be still better, for as you are as handsome as any of them, Mr. Bingley might like you the best of the party.\"\n",
        "\n",
        "\"My dear, you flatter me. I certainly have had my share of beauty, but I do not pretend to be anything extraordinary now. When a woman has five grown-up daughters, she ought to give over thinking of her own beauty.\"\n",
        "\n",
        "\"In such cases, a woman has not often much beauty to think of.\"\n",
        "\n",
        "\"But, my dear, you must indeed go and see Mr. Bingley when he comes into the neighbourhood.\"\n",
        "\n",
        "\"It is more than I engage for, I assure you.\"\n",
        "\n",
        "\"But consider your daughters. Only think what an establishment it would be for one of them. Sir William and Lady Lucas are determined to go, merely on that account, for in general, you know, they visit no newcomers. Indeed, you must go, for it will be impossible for us to visit him if you do not.\"\n",
        "\n",
        "\"You are over-scrupulous, surely. I dare say Mr. Bingley will be very glad to see you; and I will send a few lines by you to assure him of my hearty consent to his marrying whichever he chooses of the girls; though I must throw in a good word for my little Lizzy.\"\n",
        "\n",
        "\"I desire you will do no such thing. Lizzy is not a bit better than the others; and I am sure she is not half so handsome as Jane, nor half so good-humoured as Lydia. But you are always giving her the preference.\"\n",
        "\n",
        "\"They have none of them much to recommend them,\" replied he; \"they are all silly and ignorant like other girls; but Lizzy has something more of quickness than her sisters.\"\n",
        "\n",
        "\"Mr. Bennet, how can you abuse your own children in such a way? You take delight in vexing me. You have no compassion for my poor nerves.\"\n",
        "\n",
        "\"You mistake me, my dear. I have a high respect for your nerves. They are my old friends. I have heard you mention them with consideration these last twenty years at least.\"\n",
        "\n",
        "\"Ah, you do not know what I suffer.\"\n",
        "\n",
        "\"But I hope you will get over it, and live to see many young men of four thousand a year come into the neighbourhood.\"\n",
        "\n",
        "\"It will be no use to us if twenty such should come, since you will not visit them.\"\n",
        "\n",
        "\"Depend upon it, my dear, that when there are twenty, I will visit them all.\"\n",
        "\n",
        "Mr. Bennet was so odd a mixture of quick parts, sarcastic humour, reserve, and caprice, that the experience of three-and-twenty years had been insufficient to make his wife understand his character. Her mind was less difficult to develop. She was a woman of mean understanding, little information, and uncertain temper. When she was discontented, she fancied herself nervous. The business of her life was to get her daughters married; its solace was visiting and news.\n",
        "\n",
        "To these highflown expressions Elizabeth listened with all the insensibility of distrust; and though the suddenness of their removal surprised her, she saw nothing in it really to lament; it was not to be supposed that their absence from Netherfield would prevent Mr. Bingley's being there; and as to the loss of their society, she was persuaded that Jane must cease to regard it, in the enjoyment of his.\n",
        "\n",
        "\"It is unlucky,\" said she, after a short pause, \"that you should not be able to see your friends before they leave the country. But may we not hope that the period of future happiness to which Miss Bingley looks forward may arrive earlier than she is aware, and that the delightful intercourse you have known as friends will be renewed with yet greater satisfaction as sisters? Mr. Bingley will not be detained in London by them.\"\n",
        "\n",
        "\"Caroline decidedly says that none of the party will return into Hertfordshire this winter. I will read it to you.\"\n",
        "\n",
        "\"When my brother left us yesterday, he imagined that the business which took him to London might be concluded in three or four days; but as we are certain it cannot be so, and at the same time convinced that when Charles gets to town he will be in no hurry to leave it again, we have determined on following him thither, that he may not be obliged to spend his vacant hours in a comfortless hotel. Many of my acquaintances are already there for the winter; I wish that I could hear that you, my dearest friend, had any intention of making one of the crowd—but of that I despair. I sincerely hope your Christmas in Hertfordshire may abound in the gaieties which that season generally brings, and that your beaux will be so numerous as to prevent your feeling the loss of the three of whom we shall deprive you.\"\n",
        "\n",
        "\"It is evident by this,\" added Jane, \"that he comes back no more this winter.\"\n",
        "\n",
        "\"It is only evident that Miss Bingley does not mean that he should.\"\n",
        "\n",
        "\"Why will you think so? It must be his own doing. He is his own master. But you do not know all. I will read you the passage which particularly hurts me. I will have no reserves from you.\"\n",
        "\n",
        "\"Mr. Darcy is impatient to see his sister;\n",
        "\n",
        "\"\"\""
      ],
      "metadata": {
        "id": "SKOQ3wAyHWSE"
      },
      "execution_count": 30,
      "outputs": []
    },
    {
      "cell_type": "markdown",
      "source": [
        "### **b) Break the text down**\n",
        "Split that text into meaningful chunks/pieces."
      ],
      "metadata": {
        "id": "KgO61a-mIrBS"
      }
    },
    {
      "cell_type": "markdown",
      "source": [
        "The text was divided by paragraphs, ChatGPT delivered the text organized by paragraphs, where each line is a paragraph of the original text, therefore, it was decided to divide this text into these paragraphs."
      ],
      "metadata": {
        "id": "0Jz9xVHvo4C6"
      }
    },
    {
      "cell_type": "code",
      "source": [
        "# Split the text into a list of paragraphs\n",
        "paragraphs = text.split(\"\\n\\n\")\n",
        "\n",
        "# Remove empty text\n",
        "paragraphs.pop(0)\n",
        "paragraphs.pop(-1)\n",
        "\n",
        "print(f'The numbers of chunks are {len(paragraphs)}')"
      ],
      "metadata": {
        "colab": {
          "base_uri": "https://localhost:8080/"
        },
        "id": "74qTp3mxIqJD",
        "outputId": "ebfdabff-2b0b-4434-c092-d36d44bc1b16"
      },
      "execution_count": 31,
      "outputs": [
        {
          "output_type": "stream",
          "name": "stdout",
          "text": [
            "The numbers of chunks are 42\n"
          ]
        }
      ]
    },
    {
      "cell_type": "code",
      "source": [
        "print('Short view of the total paragraphs:\\n')\n",
        "paragraphs[:3]"
      ],
      "metadata": {
        "colab": {
          "base_uri": "https://localhost:8080/"
        },
        "id": "SUSeiE1lI2xu",
        "outputId": "77d02e89-f138-4b53-f131-d70bd7f65163"
      },
      "execution_count": 36,
      "outputs": [
        {
          "output_type": "stream",
          "name": "stdout",
          "text": [
            "Short view of the total paragraphs:\n",
            "\n"
          ]
        },
        {
          "output_type": "execute_result",
          "data": {
            "text/plain": [
              "['It is a truth universally acknowledged, that a single man in possession of a good fortune, must be in want of a wife.',\n",
              " 'However little known the feelings or views of such a man may be on his first entering a neighbourhood, this truth is so well fixed in the minds of the surrounding families, that he is considered as the rightful property of some one or other of their daughters.',\n",
              " '\"My dear Mr. Bennet,\" said his lady to him one day, \"have you heard that Netherfield Park is let at last?\"']"
            ]
          },
          "metadata": {},
          "execution_count": 36
        }
      ]
    },
    {
      "cell_type": "markdown",
      "source": [
        "### **c) Emdegging**\n",
        "Implement the embedding generation logic. Which tools and approaches would help you generate them easily and high-level?"
      ],
      "metadata": {
        "id": "1eFTn419KAzB"
      }
    },
    {
      "cell_type": "markdown",
      "source": [
        "To implement the vector embedding you can use many methods that can be found in the literature and whose implementations already exist in Python\n",
        "\n",
        "**See more details in attached PDF**\n",
        "<br> <br/>\n",
        "\n",
        "It is also possible to use already trained models, ready to use and whose accuracy is validated. This type of already trained models can be found in the page *'Hugging face'* in a very simple way, for this we will implement a logic of embedding generation using the library *'transformer'* with which we can use the models developed and shared by the page 'Hugging face', in this case we will use the category *'question-answering'* and we will use the model *'distilbert-base-cased-distilled-squad'* which is one of the best valued of the page."
      ],
      "metadata": {
        "id": "bcYHfDwIQUDt"
      }
    },
    {
      "cell_type": "markdown",
      "source": [
        "**Example of Pipeline**\n",
        "\n",
        "Example of how to use this library, let's create a question-answering model based on DistilBERT (a lighter version of BERT) pretrained on the Stanford Question Answering Dataset (SQuAD)."
      ],
      "metadata": {
        "id": "ZsfD73q4QW2V"
      }
    },
    {
      "cell_type": "code",
      "source": [
        "# Defining the Question-Answering Model\n",
        "question_answerer = pipeline('question-answering', model='distilbert-base-cased-distilled-squad')\n",
        "\n",
        "# Defining the context\n",
        "context = r\"\"\"\n",
        "Extractive Question Answering is the task of extracting an answer from a text given a question. An example     of a\n",
        "question answering dataset is the SQuAD dataset, which is entirely based on that task. If you would like to fine-tune\n",
        "a model on a SQuAD task, you may leverage the examples/pytorch/question-answering/run_squad.py script.\n",
        "\"\"\"\n",
        "\n",
        "# Asking the model a question:\n",
        "result = question_answerer(question=\"What is a good example of a question answering dataset?\",  context=context)"
      ],
      "metadata": {
        "id": "x8xq4arJPd4_"
      },
      "execution_count": null,
      "outputs": []
    },
    {
      "cell_type": "code",
      "source": [
        "# Printing the answer and score\n",
        "print(f\"Answer: '{result['answer']}', score: {round(result['score'], 4)}\")\n",
        "print(f\"start position in text: {result['start']}, end position in text: {result['end']}\")"
      ],
      "metadata": {
        "colab": {
          "base_uri": "https://localhost:8080/"
        },
        "id": "1EwtDRezkFsu",
        "outputId": "d6534343-9ac2-4550-9400-9d36e73698d8"
      },
      "execution_count": 39,
      "outputs": [
        {
          "output_type": "stream",
          "name": "stdout",
          "text": [
            "Answer: 'SQuAD dataset', score: 0.5152\n",
            "start position in text: 151, end position in text: 164\n"
          ]
        }
      ]
    },
    {
      "cell_type": "markdown",
      "source": [
        "### **d) Train and ask**\n",
        "For every question asked by the user, return a sorted list of the N chunks/pieces in your text that relate the most to the question. Do results make sense?"
      ],
      "metadata": {
        "id": "THJHohAqQfCm"
      }
    },
    {
      "cell_type": "code",
      "source": [
        "# Input the question\n",
        "question = input('Input the question: ')\n",
        "\n",
        "''' Is he married or single?'''"
      ],
      "metadata": {
        "colab": {
          "base_uri": "https://localhost:8080/",
          "height": 54
        },
        "id": "hGVOUEnqRMJV",
        "outputId": "9f15a4c4-76d0-46f6-f85f-5c3a94e3206d"
      },
      "execution_count": 42,
      "outputs": [
        {
          "name": "stdout",
          "output_type": "stream",
          "text": [
            "Input the question: Is he married or single?\n"
          ]
        },
        {
          "output_type": "execute_result",
          "data": {
            "text/plain": [
              "' Is he married or single?'"
            ],
            "application/vnd.google.colaboratory.intrinsic+json": {
              "type": "string"
            }
          },
          "metadata": {},
          "execution_count": 42
        }
      ]
    },
    {
      "cell_type": "code",
      "source": [
        "# Input number of chunks\n",
        "N_chunks = int(input('Input numbers of Chunks: '))\n",
        "\n",
        "''' 5 '''"
      ],
      "metadata": {
        "colab": {
          "base_uri": "https://localhost:8080/",
          "height": 54
        },
        "id": "9meYEJ6NRrpT",
        "outputId": "a0532ab1-83eb-40f0-9f20-aa33d190a0b4"
      },
      "execution_count": 43,
      "outputs": [
        {
          "name": "stdout",
          "output_type": "stream",
          "text": [
            "Input numbers of Chunks: 5\n"
          ]
        },
        {
          "output_type": "execute_result",
          "data": {
            "text/plain": [
              "' 5 '"
            ],
            "application/vnd.google.colaboratory.intrinsic+json": {
              "type": "string"
            }
          },
          "metadata": {},
          "execution_count": 43
        }
      ]
    },
    {
      "cell_type": "code",
      "source": [
        "# Defining the Question-Answering Model\n",
        "question_answerer = pipeline('question-answering', model='distilbert-base-cased-distilled-squad')\n",
        "\n",
        "# Store the results\n",
        "results = []\n",
        "for paragraph in paragraphs:\n",
        "  result = question_answerer(question=question,  context=paragraph)\n",
        "\n",
        "  result['chunk'] = paragraph\n",
        "\n",
        "  results.append(result)\n",
        "\n",
        "# Sort the results\n",
        "sorted_result = sorted(results, key=lambda x: x['score'], reverse = True)"
      ],
      "metadata": {
        "id": "3lHtSuvJLzIB"
      },
      "execution_count": 44,
      "outputs": []
    },
    {
      "cell_type": "code",
      "source": [
        "# Showing the chunks\n",
        "for i in range(N_chunks):\n",
        "  chunk_result = sorted_result[i]['chunk']\n",
        "  print(f'chunk {i}: {chunk_result}')"
      ],
      "metadata": {
        "colab": {
          "base_uri": "https://localhost:8080/"
        },
        "id": "9h6lTG6rwmKs",
        "outputId": "7a3035c3-b46f-42c4-ab07-6d1e1c79c919"
      },
      "execution_count": 46,
      "outputs": [
        {
          "output_type": "stream",
          "name": "stdout",
          "text": [
            "chunk 0: It is a truth universally acknowledged, that a single man in possession of a good fortune, must be in want of a wife.\n",
            "chunk 1: Mr. Bennet was so odd a mixture of quick parts, sarcastic humour, reserve, and caprice, that the experience of three-and-twenty years had been insufficient to make his wife understand his character. Her mind was less difficult to develop. She was a woman of mean understanding, little information, and uncertain temper. When she was discontented, she fancied herself nervous. The business of her life was to get her daughters married; its solace was visiting and news.\n",
            "chunk 2: \"Bingley.\"\n",
            "chunk 3: \"You are over-scrupulous, surely. I dare say Mr. Bingley will be very glad to see you; and I will send a few lines by you to assure him of my hearty consent to his marrying whichever he chooses of the girls; though I must throw in a good word for my little Lizzy.\"\n",
            "chunk 4: \"Do not you want to know who has taken it?\" cried his wife impatiently.\n"
          ]
        }
      ]
    },
    {
      "cell_type": "code",
      "source": [
        "# Showing the result\n",
        "for i in range(N_chunks):\n",
        "  chunk_result_answer = sorted_result[i]['answer']\n",
        "  print(f'answer chunk {i}: {chunk_result_answer}')"
      ],
      "metadata": {
        "colab": {
          "base_uri": "https://localhost:8080/"
        },
        "id": "TF-JuqbYwmgr",
        "outputId": "d0c9e0b9-96ee-4bf0-af62-8db16c9c0355"
      },
      "execution_count": 47,
      "outputs": [
        {
          "output_type": "stream",
          "name": "stdout",
          "text": [
            "answer chunk 0: single\n",
            "answer chunk 1: married\n",
            "answer chunk 2: Bingley\n",
            "answer chunk 3: marrying\n",
            "answer chunk 4: his wife\n"
          ]
        }
      ]
    },
    {
      "cell_type": "markdown",
      "source": [
        "Generating a model with all the text without separating in chunk/pieces\n"
      ],
      "metadata": {
        "id": "GyP7b239tiuQ"
      }
    },
    {
      "cell_type": "code",
      "source": [
        "result = question_answerer(question=question,  context=text)\n",
        "\n",
        "print(f\"Answer: '{result['answer']}', score: {round(result['score'], 4)}\")\n",
        "print(f\"start in text: {result['start']}, end in text: {result['end']}\")"
      ],
      "metadata": {
        "colab": {
          "base_uri": "https://localhost:8080/"
        },
        "id": "giSDwXVbv2DP",
        "outputId": "78442ba7-f6ae-491c-bad7-21179a0d5431"
      },
      "execution_count": 48,
      "outputs": [
        {
          "output_type": "stream",
          "name": "stdout",
          "text": [
            "Answer: 'married or single', score: 0.1633\n",
            "start in text: 1254, end in text: 1271\n"
          ]
        }
      ]
    },
    {
      "cell_type": "markdown",
      "source": [
        "The results make sense because the chunk/pieces that appear when the question is generated or chunk/pieces in which the words that were used in the question appear, due to the fact that the separation was made by paragraph and not according to a semantic order, the answers are not adequate at a semantic level, but at a grammatical level."
      ],
      "metadata": {
        "id": "b8zHgeGFyJ6d"
      }
    },
    {
      "cell_type": "markdown",
      "source": [
        "## **Exercise 4**: How improve the Q&A performance?\n",
        "\n",
        "**What do you think that could make these types of systems more robust in terms of semantics and functionality?**"
      ],
      "metadata": {
        "id": "pfTr9kddQqfc"
      }
    },
    {
      "cell_type": "markdown",
      "source": [
        "Improving the robustness of vector word embedding systems, such as Word2Vec, GloVe, or more advanced models like BERT and GPT, is a complex and ongoing research challenge.\n",
        "\n",
        "Some strategies and considerations that could enhance the robustness of such systems in terms of semantics and functionality:\n",
        "\n",
        "* **Diverse Training Data**: Use a diverse and comprehensive corpus for training word embeddings. Ensure that the data includes a wide range of domains, languages, and writing styles to capture a broader spectrum of semantics and concepts.\n",
        "<br> <br/>\n",
        "* **Multilingual Training**: Train embeddings on multilingual corpora to enable cross-lingual transfer of semantic information. This can help improve the understanding of words and phrases in multiple languages.\n",
        "<br> <br/>\n",
        "* **Fine-Tuning**: Fine-tune pre-trained embeddings on domain-specific data or tasks to adapt them to specific use cases. Fine-tuning allows you to capture domain-specific semantics.\n",
        "<br> <br/>\n",
        "* **Dynamic Word Embeddings**: Explore techniques that allow embeddings to change dynamically based on context or time, reflecting evolving language semantics. This can be crucial for handling semantic drift.\n",
        "<br> <br/>\n",
        "* **Evaluation Metrics**: Develop and use more sophisticated evaluation metrics that assess not only syntactic but also semantic properties of word embeddings. Metrics like word similarity, analogy, and downstream task performance can provide a better assessment of semantic quality.\n",
        "<br> <br/>\n",
        "* **Bias Mitigation**: Address and mitigate biases present in word embeddings, such as gender or racial biases, to ensure that embeddings are more fair and representative of the real world.\n",
        "<br> <br/>\n",
        "* **Conceptual Understanding**: Incorporate external knowledge sources, such as knowledge graphs or ontologies, to enhance the embeddings' understanding of concepts and relationships between words.\n",
        "<br> <br/>\n",
        "* **Adversarial Testing**: Subject word embeddings to adversarial testing to identify vulnerabilities and improve their robustness against attacks or perturbations.\n",
        "<br> <br/>\n",
        "* **Regularization Techniques**: Apply regularization techniques to reduce overfitting during training and improve the generalization of word embeddings.\n",
        "<br> <br/>\n",
        "* **Human-in-the-Loop**: Involve human experts in the development and validation process to ensure that the embeddings capture the intended semantics and are free from biases.\n",
        "<br> <br/>\n",
        "* **User Feedback**: Continuously gather user feedback to identify and rectify any issues or limitations in the embeddings' semantics and functionality.\n",
        "\n",
        "\n",
        "**See more details in attached PDF**."
      ],
      "metadata": {
        "id": "GJagXKIRmndm"
      }
    }
  ]
}